{
  "nbformat": 4,
  "nbformat_minor": 0,
  "metadata": {
    "colab": {
      "provenance": [],
      "authorship_tag": "ABX9TyOl4uHsw4HrrjZVFb6IF6AQ",
      "include_colab_link": true
    },
    "kernelspec": {
      "name": "python3",
      "display_name": "Python 3"
    },
    "language_info": {
      "name": "python"
    }
  },
  "cells": [
    {
      "cell_type": "markdown",
      "metadata": {
        "id": "view-in-github",
        "colab_type": "text"
      },
      "source": [
        "<a href=\"https://colab.research.google.com/github/HilmiZavier/Komputasi-Numerik/blob/main/eliminasigaus.ipynb\" target=\"_parent\"><img src=\"https://colab.research.google.com/assets/colab-badge.svg\" alt=\"Open In Colab\"/></a>"
      ]
    },
    {
      "cell_type": "code",
      "execution_count": 6,
      "metadata": {
        "id": "h3FS3JE08kzf"
      },
      "outputs": [],
      "source": [
        "import numpy"
      ]
    },
    {
      "cell_type": "markdown",
      "source": [
        "untuk menambahkan library numpy"
      ],
      "metadata": {
        "id": "Y2aXLZpc94xK"
      }
    },
    {
      "cell_type": "code",
      "source": [
        "n = int(input(\"masukkan jumlah variable yang akan digunakan \"))"
      ],
      "metadata": {
        "colab": {
          "base_uri": "https://localhost:8080/"
        },
        "id": "0qCLUUGm98hI",
        "outputId": "15ffa3b0-ce54-41db-8753-960cf2b9a78a"
      },
      "execution_count": 11,
      "outputs": [
        {
          "name": "stdout",
          "output_type": "stream",
          "text": [
            "masukkan jumlah variable yang akan digunakan 3\n"
          ]
        }
      ]
    },
    {
      "cell_type": "markdown",
      "source": [
        "masukkan jumlah variable yang akan digunakan 3\n",
        "Menjalankan code untuk membuat array"
      ],
      "metadata": {
        "id": "QSHiYjS6-mMc"
      }
    },
    {
      "cell_type": "code",
      "source": [
        "x = numpy.zeros(n)\n",
        "SPL = numpy.zeros((n,n+1))"
      ],
      "metadata": {
        "id": "-5kxClLy-oV7"
      },
      "execution_count": 8,
      "outputs": []
    },
    {
      "cell_type": "markdown",
      "source": [
        "pengguna memasukkan nilai kedalam matrix Memasukkan nilai kedalam array"
      ],
      "metadata": {
        "id": "Rp9yf__C-vZO"
      }
    },
    {
      "cell_type": "code",
      "source": [
        "print(\"masukkan nilai kedalam array\")\n",
        "for i in range(n):\n",
        "  for j in range(n+1):\n",
        "    SPL[i][j]=float(input(f\"a[{i}][{j}]\"))\n"
      ],
      "metadata": {
        "colab": {
          "base_uri": "https://localhost:8080/"
        },
        "id": "MJS_ha5g-5-l",
        "outputId": "55856256-0df0-458e-effb-14d6cf7c16a1"
      },
      "execution_count": 12,
      "outputs": [
        {
          "name": "stdout",
          "output_type": "stream",
          "text": [
            "masukkan nilai kedalam array\n",
            "a[0][0]2\n",
            "a[0][1]3\n",
            "a[0][2]-1\n",
            "a[0][3]5\n",
            "a[1][0]4\n",
            "a[1][1]4\n",
            "a[1][2]-3\n",
            "a[1][3]3\n",
            "a[2][0]-2\n",
            "a[2][1]3\n",
            "a[2][2]-1\n",
            "a[2][3]1\n"
          ]
        },
        {
          "output_type": "execute_result",
          "data": {
            "text/plain": [
              "1"
            ]
          },
          "metadata": {},
          "execution_count": 12
        }
      ]
    },
    {
      "cell_type": "markdown",
      "source": [
        "melakukan eliminasi gauss"
      ],
      "metadata": {
        "id": "Uw6ssRgTAhvJ"
      }
    },
    {
      "cell_type": "code",
      "source": [
        "# SPL = ([[2,3,-1,5],[4,4,-3,3],[-2,3,-1,1]]) #ini matriksnya\n",
        "print(\"Sistem Persamaan Linear matriks adalah \",SPL)\n",
        "for j in range(n):\n",
        "  #Melakukan pengecheckan pada pembagi\n",
        "  if SPL[j][j] == 0:\n",
        "    sys.exit('Terdapat nilai 0 pada diagonal utama')\n",
        "\n",
        "  for k in range(j+1,n):\n",
        "    # mecari nilai rasio yang digunakan untuk dikalikan dengan baris j\n",
        "    rasio = SPL[k][j]/SPL[j][j]\n",
        "\n",
        "    for i in range(n+1):\n",
        "      # melakukan eliminasi pada baris i\n",
        "      SPL[k][i] = SPL[k][i] - rasio * SPL[j][i]\n",
        "\n",
        "\n",
        "SPL"
      ],
      "metadata": {
        "colab": {
          "base_uri": "https://localhost:8080/"
        },
        "id": "7LDQOx4lAk6z",
        "outputId": "054d1098-ef0f-477d-c429-789e7c7a5058"
      },
      "execution_count": 13,
      "outputs": [
        {
          "output_type": "stream",
          "name": "stdout",
          "text": [
            "Sistem Persamaan Linear matriks adalah  [[ 2.  3. -1.  5.  4.]\n",
            " [ 4.  4. -3.  3.  3.]\n",
            " [-2.  3. -1.  1.  0.]\n",
            " [ 0.  0.  0.  0.  0.]]\n"
          ]
        },
        {
          "output_type": "execute_result",
          "data": {
            "text/plain": [
              "array([[  2.,   3.,  -1.,   5.,   4.],\n",
              "       [  0.,  -2.,  -1.,  -7.,   3.],\n",
              "       [  0.,   0.,  -5., -15.,   0.],\n",
              "       [  0.,   0.,   0.,   0.,   0.]])"
            ]
          },
          "metadata": {},
          "execution_count": 13
        }
      ]
    },
    {
      "cell_type": "markdown",
      "source": [
        "melakukan subtitusi balik untuk mencari nilai akhir variable"
      ],
      "metadata": {
        "id": "F4U8O5ayAtXO"
      }
    },
    {
      "cell_type": "code",
      "source": [
        "# Melakukan Subtitusi balik untuk mencari nilai akhir variable\n",
        "x[2] = SPL[n-1][n] / SPL[n-1][n-1]\n",
        "\n",
        "for i in range(n-2,-1,-1):\n",
        "    x[i] = SPL[i][n]\n",
        "    for j in range(i+1,n):\n",
        "      # melakukan pengurangan pada pada variable yang sudah ditemukan\n",
        "      x[i] = x[i] - SPL[i][j]*x[j]\n",
        "    # jika selesai tinggal membagi variable yang dicari dengan nilai akhir\n",
        "    x[i] = x[i] / SPL[i][i]\n",
        "\n",
        "\n",
        "\n",
        "print(\"Nilai x:\", x[0])\n",
        "print(\"Nilai y:\", x[1])\n",
        "print(\"Nilai z:\", x[2])\n",
        ""
      ],
      "metadata": {
        "colab": {
          "base_uri": "https://localhost:8080/"
        },
        "id": "-lOppR8lA1jV",
        "outputId": "616275b3-81f7-4a86-fa1b-2d491dd8ff8d"
      },
      "execution_count": 14,
      "outputs": [
        {
          "output_type": "stream",
          "name": "stdout",
          "text": [
            "Nilai x: 1.0\n",
            "Nilai y: 2.0\n",
            "Nilai z: 3.0\n"
          ]
        }
      ]
    }
  ]
}