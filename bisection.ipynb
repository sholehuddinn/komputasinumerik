{
  "nbformat": 4,
  "nbformat_minor": 0,
  "metadata": {
    "colab": {
      "provenance": []
    },
    "kernelspec": {
      "name": "python3",
      "display_name": "Python 3"
    },
    "language_info": {
      "name": "python"
    }
  },
  "cells": [
    {
      "cell_type": "code",
      "execution_count": null,
      "metadata": {
        "id": "2JHVHadOtZcL"
      },
      "outputs": [],
      "source": [
        "import numpy as np"
      ]
    },
    {
      "cell_type": "markdown",
      "source": [
        "untuk menambahkan library numpy dan diganti nama dengan np"
      ],
      "metadata": {
        "id": "xwUCDXF0EhOZ"
      }
    },
    {
      "cell_type": "code",
      "source": [
        "def bisection(f, a, b, tol):\n",
        "\n",
        "    if np.sign(f(a)) == np.sign(f(b)):\n",
        "        raise Exception(\n",
        "         \"tidak bisa\")\n",
        "\n",
        "    m = (a + b)/2\n",
        "\n",
        "    if np.abs(f(m)) < tol:\n",
        "        return m\n",
        "    elif np.sign(f(a)) == np.sign(f(m)):\n",
        "        return bisection(f, m, b, tol)\n",
        "    elif np.sign(f(b)) == np.sign(f(m)):\n",
        "        return bisection(f, a, m, tol)"
      ],
      "metadata": {
        "id": "5_LhaSoZurtu"
      },
      "execution_count": null,
      "outputs": []
    },
    {
      "cell_type": "markdown",
      "source": [
        "def digunakan untuk mendefinisikan suatu fungsi dalam Python\n",
        "Parameter dalam def:\n",
        "f: Fungsi yang ingin dicari akarnya.\n",
        "a: Batas bawah dari interval.\n",
        "b: Batas atas dari interval.\n",
        "tol: Toleransi, yaitu seberapa dekat akar yang dicari harus berada dengan nilai sebenarnya.\n",
        "jika f(a) == f(b) maka tidak ada jaminan ada akar di antara a dan b, Dalam hal ini, fungsi akan mengangkat pengecualian (exception) dengan pesan \"tidak bisa\".\n",
        "m = (a+b)/2 digunakan untuk mencari titik tengah\n",
        "Jka nilai fungsi di titik tengah ( f(m) ) kurang dari toleransi yang ditentukan (tol), maka ( m ) dianggap sebagai akar yang cukup akurat, dan fungsi mengembalikan nilai ( m ).\n",
        "Jika ( f(a) ) dan ( f(m) ) memiliki tanda yang sama, maka akar pasti terletak di interval ([m, b]). Fungsi bisection dipanggil kembali dengan interval baru ([m, b]).\n",
        "Jika ( f(b) ) dan ( f(m) ) memiliki tanda yang sama, maka akar pasti terletak di interval ([a, m]). Fungsi bisection dipanggil kembali dengan interval baru ([a, m])."
      ],
      "metadata": {
        "id": "IeAtAUJIHYLR"
      }
    },
    {
      "cell_type": "code",
      "source": [
        "f = lambda x: x**2 - 2\n",
        "\n",
        "r1 = bisection(f, 0, 2, 0.01)\n",
        "print(\"r1 =\", r1)\n",
        "print(\"f(c) =\", f(r1))"
      ],
      "metadata": {
        "id": "ncQT2IKYvNBk",
        "outputId": "de95331e-120e-40f2-c2e7-8377f30625f4",
        "colab": {
          "base_uri": "https://localhost:8080/"
        }
      },
      "execution_count": null,
      "outputs": [
        {
          "output_type": "stream",
          "name": "stdout",
          "text": [
            "r1 = 1.4140625\n",
            "f(r1) = -0.00042724609375\n"
          ]
        }
      ]
    },
    {
      "cell_type": "markdown",
      "source": [
        "mendefinisikan fungsi ( f(x) ) menggunakan lambda. Fungsi ini mengembalikan nilai ( x^2 - 2 ). Kita ingin mencari akar dari fungsi ini, yang berarti kita ingin mencari nilai ( x ) di mana ( f(x) = 0 ). Dalam hal ini, akar tersebut adalah x^2\n",
        "Kita memanggil fungsi bisection yang telah didefinisikan sebelumnya dengan parameter:\n",
        "f: fungsi yang ingin dicari akarnya.\n",
        "0: batas bawah dari interval.\n",
        "2: batas atas dari interval.\n",
        "0.01: toleransi, yang menunjukkan seberapa dekat akar yang dicari harus berada dengan nilai sebenarnya"
      ],
      "metadata": {
        "id": "nvF74VniNVRm"
      }
    },
    {
      "cell_type": "code",
      "source": [
        "r01 = bisection(f, 0, 4, 0.01)\n",
        "print(\"r01 =\", r01)\n",
        "print(\"f(c) =\", f(r01))"
      ],
      "metadata": {
        "id": "6AXlP2cLDdqW",
        "outputId": "95bddaf8-ab08-41f5-bc9e-aaf96d6738ec",
        "colab": {
          "base_uri": "https://localhost:8080/"
        }
      },
      "execution_count": null,
      "outputs": [
        {
          "output_type": "stream",
          "name": "stdout",
          "text": [
            "r01 = 1.416015625\n",
            "f(r01) = 0.005100250244140625\n"
          ]
        }
      ]
    },
    {
      "cell_type": "markdown",
      "source": [
        "memanggil fungsi bisection yang telah didefinisikan sebelumnya dengan parameter:\n",
        "f: fungsi yang ingin dicari akarnya.\n",
        "0: batas bawah dari interval.\n",
        "4: batas atas dari interval.\n",
        "0.01: toleransi, yang menunjukkan seberapa dekat akar yang dicari harus berada dengan nilai sebenarnya"
      ],
      "metadata": {
        "id": "szWsZrPDNnAD"
      }
    }
  ]
}