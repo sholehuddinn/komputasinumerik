{
  "nbformat": 4,
  "nbformat_minor": 0,
  "metadata": {
    "colab": {
      "provenance": [],
      "authorship_tag": "ABX9TyPD9vnHvsrDqXlRb5qLxn97",
      "include_colab_link": true
    },
    "kernelspec": {
      "name": "python3",
      "display_name": "Python 3"
    },
    "language_info": {
      "name": "python"
    }
  },
  "cells": [
    {
      "cell_type": "markdown",
      "metadata": {
        "id": "view-in-github",
        "colab_type": "text"
      },
      "source": [
        "<a href=\"https://colab.research.google.com/github/HilmiZavier/Komputasi-Numerik/blob/main/UAS%20Komputasi%20numerik.ipynb\" target=\"_parent\"><img src=\"https://colab.research.google.com/assets/colab-badge.svg\" alt=\"Open In Colab\"/></a>"
      ]
    },
    {
      "cell_type": "code",
      "execution_count": 1,
      "metadata": {
        "colab": {
          "base_uri": "https://localhost:8080/"
        },
        "id": "Xg6BrjwERrex",
        "outputId": "7f2d844e-bb0a-4978-cd4c-e1857a6ad2a8"
      },
      "outputs": [
        {
          "output_type": "stream",
          "name": "stdout",
          "text": [
            "Luas dengan metode rectangle (n=100): 25.000000\n",
            "Luas dengan metode analitik: 25.000000\n"
          ]
        }
      ],
      "source": [
        "# Import library\n",
        "import numpy as np\n",
        "\n",
        "# Definisikan fungsi f(x) dan g(x)\n",
        "def f(x):\n",
        "    return x**2 + 4\n",
        "\n",
        "def g(x):\n",
        "    return x**2 - 1\n",
        "\n",
        "# Metode Rectangle untuk menghitung luas\n",
        "def rectangle_method(a, b, n):\n",
        "    \"\"\"\n",
        "    Menghitung luas menggunakan metode rectangle.\n",
        "    a, b: batas integral\n",
        "    n: jumlah subinterval\n",
        "    \"\"\"\n",
        "    dx = (b - a) / n  # Lebar setiap subinterval\n",
        "    total_area = 0\n",
        "\n",
        "    for i in range(n):\n",
        "        # Titik tengah setiap subinterval\n",
        "        x_mid = a + (i + 0.5) * dx\n",
        "        # Tambahkan area persegi panjang\n",
        "        total_area += (f(x_mid) - g(x_mid)) * dx\n",
        "\n",
        "    return total_area\n",
        "\n",
        "# Batas dan jumlah subinterval\n",
        "a = -1  # Batas bawah\n",
        "b = 4   # Batas atas\n",
        "n = 100  # Jumlah subinterval\n",
        "\n",
        "# Hitung dengan metode rectangle\n",
        "area_rectangle = rectangle_method(a, b, n)\n",
        "\n",
        "# Metode Analitik untuk menghitung luas\n",
        "def analytic_area(a, b):\n",
        "    \"\"\"\n",
        "    Menghitung luas secara analitik\n",
        "    \"\"\"\n",
        "    # Integral f(x) = x^2 + 4 -> (1/3)x^3 + 4x\n",
        "    # Integral g(x) = x^2 - 1 -> (1/3)x^3 - x\n",
        "    F = lambda x: (1/3)*x**3 + 4*x\n",
        "    G = lambda x: (1/3)*x**3 - x\n",
        "\n",
        "    return (F(b) - F(a)) - (G(b) - G(a))\n",
        "\n",
        "# Hitung dengan metode analitik\n",
        "area_analytic = analytic_area(a, b)\n",
        "\n",
        "# Tampilkan hasil\n",
        "print(f\"Luas dengan metode rectangle (n={n}): {area_rectangle:.6f}\")\n",
        "print(f\"Luas dengan metode analitik: {area_analytic:.6f}\")\n"
      ]
    }
  ]
}